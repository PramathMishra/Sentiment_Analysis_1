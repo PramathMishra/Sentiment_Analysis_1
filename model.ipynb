{
 "cells": [
  {
   "cell_type": "code",
   "execution_count": 1,
   "metadata": {},
   "outputs": [],
   "source": [
    "import tensorflow as tf\n",
    "from tensorflow.keras import datasets, layers, models, preprocessing\n",
    "import tensorflow_datasets as tfds"
   ]
  },
  {
   "cell_type": "code",
   "execution_count": 2,
   "metadata": {},
   "outputs": [],
   "source": [
    "max_len = 200\n",
    "n_words = 10000\n",
    "dim_embedding = 256\n",
    "EPOCHS = 20\n",
    "BATCH_SIZE = 500"
   ]
  },
  {
   "cell_type": "code",
   "execution_count": 3,
   "metadata": {},
   "outputs": [],
   "source": [
    "def load_data():\n",
    "    (X_train, y_train), (X_test, y_test) = datasets.imdb.load_data(num_words=n_words)\n",
    "    X_train = preprocessing.sequence.pad_sequences(X_train, maxlen=max_len)\n",
    "    X_test = preprocessing.sequence.pad_sequences(X_test, maxlen=max_len)\n",
    "    return (X_train, y_train), (X_test, y_test)"
   ]
  },
  {
   "cell_type": "code",
   "execution_count": 4,
   "metadata": {},
   "outputs": [],
   "source": [
    "def build_model():\n",
    "    model = models.Sequential()\n",
    "    model.add(layers.Embedding(n_words, dim_embedding, input_length=max_len))\n",
    "    model.add(layers.Dropout(0.3))\n",
    "    model.add(layers.GlobalMaxPooling1D())\n",
    "    model.add(layers.Dense(128, activation=\"relu\"))\n",
    "    model.add(layers.Dropout(0.5))\n",
    "    model.add(layers.Dense(1, activation=\"sigmoid\"))\n",
    "    return model"
   ]
  },
  {
   "cell_type": "code",
   "execution_count": 5,
   "metadata": {},
   "outputs": [
    {
     "name": "stdout",
     "output_type": "stream",
     "text": [
      "Model: \"sequential\"\n",
      "_________________________________________________________________\n",
      "Layer (type)                 Output Shape              Param #   \n",
      "=================================================================\n",
      "embedding (Embedding)        (None, 200, 256)          2560000   \n",
      "_________________________________________________________________\n",
      "dropout (Dropout)            (None, 200, 256)          0         \n",
      "_________________________________________________________________\n",
      "global_max_pooling1d (Global (None, 256)               0         \n",
      "_________________________________________________________________\n",
      "dense (Dense)                (None, 128)               32896     \n",
      "_________________________________________________________________\n",
      "dropout_1 (Dropout)          (None, 128)               0         \n",
      "_________________________________________________________________\n",
      "dense_1 (Dense)              (None, 1)                 129       \n",
      "=================================================================\n",
      "Total params: 2,593,025\n",
      "Trainable params: 2,593,025\n",
      "Non-trainable params: 0\n",
      "_________________________________________________________________\n"
     ]
    }
   ],
   "source": [
    "(X_train, y_train), (X_test, y_test) = load_data()\n",
    "model = build_model()\n",
    "model.summary()"
   ]
  },
  {
   "cell_type": "code",
   "execution_count": null,
   "metadata": {},
   "outputs": [
    {
     "name": "stdout",
     "output_type": "stream",
     "text": [
      "Epoch 1/20\n",
      "50/50 [==============================] - 36s 716ms/step - loss: 0.6760 - accuracy: 0.6247 - val_loss: 0.6410 - val_accuracy: 0.8070\n",
      "Epoch 2/20\n",
      "50/50 [==============================] - 35s 704ms/step - loss: 0.4784 - accuracy: 0.8286 - val_loss: 0.3745 - val_accuracy: 0.8562\n",
      "Epoch 3/20\n",
      "50/50 [==============================] - 35s 706ms/step - loss: 0.2896 - accuracy: 0.8832 - val_loss: 0.3071 - val_accuracy: 0.8744\n",
      "Epoch 4/20\n",
      "50/50 [==============================] - 35s 702ms/step - loss: 0.2225 - accuracy: 0.9121 - val_loss: 0.2898 - val_accuracy: 0.8796\n",
      "Epoch 5/20\n",
      "50/50 [==============================] - 35s 701ms/step - loss: 0.1761 - accuracy: 0.9366 - val_loss: 0.2916 - val_accuracy: 0.8757\n",
      "Epoch 6/20\n",
      "50/50 [==============================] - 35s 709ms/step - loss: 0.1383 - accuracy: 0.9537 - val_loss: 0.2946 - val_accuracy: 0.8734\n",
      "Epoch 7/20\n",
      "50/50 [==============================] - 36s 711ms/step - loss: 0.1084 - accuracy: 0.9657 - val_loss: 0.2997 - val_accuracy: 0.8720\n",
      "Epoch 8/20\n",
      "50/50 [==============================] - 35s 708ms/step - loss: 0.0825 - accuracy: 0.9758 - val_loss: 0.3188 - val_accuracy: 0.8640\n",
      "Epoch 9/20\n",
      "50/50 [==============================] - 36s 715ms/step - loss: 0.0634 - accuracy: 0.9835 - val_loss: 0.3296 - val_accuracy: 0.8637\n",
      "Epoch 10/20\n",
      "50/50 [==============================] - 37s 736ms/step - loss: 0.0479 - accuracy: 0.9873 - val_loss: 0.3484 - val_accuracy: 0.8600\n",
      "Epoch 11/20\n",
      "50/50 [==============================] - 36s 713ms/step - loss: 0.0352 - accuracy: 0.9924 - val_loss: 0.3660 - val_accuracy: 0.8578\n",
      "Epoch 12/20\n",
      "50/50 [==============================] - 35s 710ms/step - loss: 0.0283 - accuracy: 0.9940 - val_loss: 0.3852 - val_accuracy: 0.8554\n",
      "Epoch 13/20\n",
      "50/50 [==============================] - 35s 702ms/step - loss: 0.0210 - accuracy: 0.9960 - val_loss: 0.4009 - val_accuracy: 0.8535\n",
      "Epoch 14/20\n",
      "50/50 [==============================] - 35s 703ms/step - loss: 0.0167 - accuracy: 0.9968 - val_loss: 0.4219 - val_accuracy: 0.8514\n",
      "Epoch 15/20\n",
      "50/50 [==============================] - 36s 712ms/step - loss: 0.0139 - accuracy: 0.9976 - val_loss: 0.4325 - val_accuracy: 0.8515\n",
      "Epoch 16/20\n",
      "50/50 [==============================] - 35s 707ms/step - loss: 0.0112 - accuracy: 0.9981 - val_loss: 0.4481 - val_accuracy: 0.8509\n",
      "Epoch 17/20\n",
      "50/50 [==============================] - 35s 710ms/step - loss: 0.0090 - accuracy: 0.9987 - val_loss: 0.4559 - val_accuracy: 0.8514\n",
      "Epoch 18/20\n",
      "50/50 [==============================] - 35s 708ms/step - loss: 0.0082 - accuracy: 0.9989 - val_loss: 0.4691 - val_accuracy: 0.8512\n",
      "Epoch 19/20\n",
      "50/50 [==============================] - 35s 707ms/step - loss: 0.0072 - accuracy: 0.9989 - val_loss: 0.4859 - val_accuracy: 0.8493\n",
      "Epoch 20/20\n",
      "11/50 [=====>........................] - ETA: 22s - loss: 0.0067 - accuracy: 0.9991"
     ]
    }
   ],
   "source": [
    "model.compile(optimizer=\"adam\", loss=\"binary_crossentropy\", metrics=[\"accuracy\"])\n",
    "model.fit(\n",
    "    X_train,\n",
    "    y_train,\n",
    "    epochs=EPOCHS,\n",
    "    batch_size=BATCH_SIZE,\n",
    "    validation_data = (X_test, y_test)\n",
    ")"
   ]
  },
  {
   "cell_type": "code",
   "execution_count": null,
   "metadata": {},
   "outputs": [],
   "source": [
    "score = model.evaluate(X_test, y_test, batch_size=BATCH_SIZE)\n",
    "print(\"Test Result:\\n\")\n",
    "print(\" -Test Score: \", score[0])\n",
    "print(\" -Test Accuracy: \", score[1])"
   ]
  }
 ],
 "metadata": {
  "kernelspec": {
   "display_name": "Python 3",
   "language": "python",
   "name": "python3"
  },
  "language_info": {
   "codemirror_mode": {
    "name": "ipython",
    "version": 3
   },
   "file_extension": ".py",
   "mimetype": "text/x-python",
   "name": "python",
   "nbconvert_exporter": "python",
   "pygments_lexer": "ipython3",
   "version": "3.8.5"
  }
 },
 "nbformat": 4,
 "nbformat_minor": 4
}
